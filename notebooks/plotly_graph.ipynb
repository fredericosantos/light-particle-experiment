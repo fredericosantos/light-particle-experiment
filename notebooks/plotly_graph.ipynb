{
 "cells": [
  {
   "cell_type": "code",
   "execution_count": 1,
   "metadata": {},
   "outputs": [
    {
     "data": {
      "text/plain": [
       "{'divide': 'warn', 'over': 'warn', 'under': 'ignore', 'invalid': 'warn'}"
      ]
     },
     "execution_count": 1,
     "metadata": {},
     "output_type": "execute_result"
    }
   ],
   "source": [
    "from library.quantum_field import *\n",
    "import plotly.graph_objects as go\n",
    "import plotly.express as px\n",
    "import numpy as np\n",
    "import pandas as pd\n",
    "import plotly.io as pio\n",
    "import time\n",
    "template=\"plotly_dark\"\n",
    "np.seterr(divide='ignore')"
   ]
  },
  {
   "cell_type": "markdown",
   "metadata": {},
   "source": [
    "#### Particles"
   ]
  },
  {
   "cell_type": "code",
   "execution_count": 20,
   "metadata": {},
   "outputs": [],
   "source": [
    "# Construct the slits\n",
    "wallMass = 1\n",
    "yWall = 0\n",
    "slitAperture = 30\n",
    "leftEdge = Object(-slitAperture / 2, yWall, wallMass)\n",
    "leftWall = [Object(-100 - slitAperture / 2, yWall, wallMass), leftEdge]\n",
    "rightEdge = Object(slitAperture / 2, yWall, wallMass)\n",
    "rightWall = [Object(100 + slitAperture / 2, yWall, wallMass), rightEdge]\n",
    "edges = [leftEdge, rightEdge]\n",
    "walls = [leftWall, rightWall]\n",
    "\n",
    "# Comment out for slits\n",
    "# edges = [rightEdge]\n",
    "# walls = [rightWall]\n",
    "\n",
    "\n",
    "# Create the particles\n",
    "v_y_particles = 300_000\n",
    "particle_y0_step = 1\n",
    "particle_x0_fraction = 100  # 100\n",
    "\n",
    "particles = [\n",
    "    Particle(x_t0=i / particle_x0_fraction, y_t0=j, v_x=0, v_y=v_y_particles, mass=1)\n",
    "    for j in range(0, 1, particle_y0_step)\n",
    "    for i in range(\n",
    "        -(slitAperture // 2 - wallMass) * particle_x0_fraction,\n",
    "        (slitAperture // 2 - wallMass) * particle_x0_fraction,\n",
    "        1,\n",
    "    )\n",
    "]\n",
    "\n",
    "\n",
    "# Define parameters\n",
    "dt = 0.5  # 0.5\n",
    "cos_sin = \"cos\"  # sin\n",
    "power = 1\n",
    "r_modifier = 10  # 10\n",
    "G = 5_000_000\n",
    "c = 0\n",
    "gravityCutoff = 1000\n",
    "yGrid = True\n",
    "# Sets the limits for the x axis in [-xCutoff, xCutoff]\n",
    "xCutoff = 50\n",
    "Y_RANGE = 200\n",
    "\n",
    "# Punch it\n",
    "for t in range(Y_RANGE):\n",
    "    for particle in particles:\n",
    "        if particle.y > 500:\n",
    "            dt = 1\n",
    "        if particle.v_y > 0:\n",
    "            updateParticle(\n",
    "                particle,\n",
    "                edges,\n",
    "                G=G,\n",
    "                dt=dt,\n",
    "                r_modifier=r_modifier,\n",
    "                c=c,\n",
    "                power=power,\n",
    "                gravityCutoff=gravityCutoff,\n",
    "                cos_sin=cos_sin,\n",
    "                yGrid=yGrid,\n",
    "            )\n"
   ]
  },
  {
   "cell_type": "code",
   "execution_count": 21,
   "metadata": {},
   "outputs": [],
   "source": [
    "grid = pd.DataFrame(np.vstack((np.hstack([particle.x_trail for particle in particles]), np.hstack([particle.y_trail for particle in particles])))).T\n",
    "grid.rename(columns={0: \"x\", 1: \"y\"}, inplace=True)\n",
    "grid[\"x\"] = np.round(grid.x, 0)\n",
    "grid_pt = grid[(grid.x > -xCutoff) & (grid.x < xCutoff) & (grid.y > yWall)].pivot_table(index=\"y\", columns=\"x\", aggfunc=len, fill_value=0)\n",
    "grid_np = grid_pt.to_numpy()"
   ]
  },
  {
   "cell_type": "markdown",
   "metadata": {},
   "source": [
    "#### Histogram3D"
   ]
  },
  {
   "cell_type": "code",
   "execution_count": 22,
   "metadata": {},
   "outputs": [],
   "source": [
    "fig = go.Figure()\n",
    "\n",
    "fig.add_trace(\n",
    "    go.Surface(\n",
    "        z=grid_np,\n",
    "        x=grid_pt.columns.tolist(),\n",
    "        y=grid_pt.index.tolist(),\n",
    "        showscale=False,\n",
    "        hoverinfo=None,\n",
    "        reversescale=True,\n",
    "        name=\"test\",\n",
    "        colorscale=[\"red\", \"black\"],\n",
    "        # lighting=dict(diffuse=0.2, specular=0.0, fresnel=0.1, roughness=0.1),\n",
    "#         cmin=0.5,\n",
    "#         cmax=10,\n",
    "        contours_z=dict(usecolormap=False, project_z=False),\n",
    "        contours_y=dict(highlightcolor=\"red\", project_y=True),\n",
    "        contours_x=dict(highlightcolor=\"red\", project_x=True),\n",
    "    )\n",
    ")\n",
    "fig.update_layout(template=template)\n",
    "fig.update_layout(\n",
    "    scene=dict(\n",
    "        xaxis_showspikes=False,\n",
    "        yaxis_showspikes=False,\n",
    "        zaxis_showspikes=False,\n",
    "        xaxis_visible=False,\n",
    "        yaxis_visible=False,\n",
    "        zaxis_visible=False,\n",
    "        yaxis_range=[grid_pt.index.to_numpy().min(), grid_pt.index.to_numpy().max() *1.5]\n",
    "    ),\n",
    "    margin=dict(t=0, b=0, l=0, r=0),\n",
    ")\n",
    "fig.write_html(f\"plotly_graphs/3d_histogram_test{time.time()}.html\")\n",
    "# fig.show()\n"
   ]
  },
  {
   "cell_type": "code",
   "execution_count": 6,
   "metadata": {},
   "outputs": [],
   "source": [
    "fig = px.histogram(grid[grid.y == 30], x=\"x\", template=template, nbins=500, histnorm=\"probability\")\n",
    "fig.update_xaxes(visible=False)\n",
    "fig.update_yaxes(visible=False)\n",
    "fig.write_html(f\"plotly_graphs/histogram1_test_{time.time()}.html\")\n",
    "# fig.show()\n"
   ]
  },
  {
   "cell_type": "markdown",
   "metadata": {},
   "source": [
    "#### Field"
   ]
  },
  {
   "cell_type": "code",
   "execution_count": 7,
   "metadata": {},
   "outputs": [],
   "source": [
    "field_x = [grid.x.min(), grid.x.max()]\n",
    "field_y = [grid.y.min(), grid.y.max()]\n",
    "mesh_size_x = int(np.abs(field_x[0]) + np.abs(field_x[1]))\n",
    "mesh_size_y = int(np.abs(field_y[0]) + np.abs(field_y[1]))\n",
    "\n",
    "x = np.linspace(field_x[0], field_x[1], mesh_size_x+1)\n",
    "y = np.linspace(field_y[0], field_y[1], mesh_size_y+1)\n",
    "\n",
    "X, Y = np.meshgrid(x, y)\n",
    "\n",
    "zarray = np.zeros((x.size, y.size))\n",
    "edges = [-slitAperture/2, slitAperture/2]\n",
    "param = {\n",
    "    \"mult\": -wallMass * G,\n",
    "    \"v\": v_y_particles,\n",
    "    \"power\": power,\n",
    "    \"trig\": cos_sin,\n",
    "    \"wave_length\": r_modifier,\n",
    "}\n",
    "vmin = -0.001\n",
    "vmax = 0.01\n",
    "\n",
    "zarray = f(X, Y, edges=edges, **param)\n",
    "\n",
    "zarray[zarray < vmin] = vmin\n",
    "zarray[zarray > vmax] = vmax\n",
    "zarray = np.nan_to_num(zarray, False, 0)"
   ]
  },
  {
   "cell_type": "markdown",
   "metadata": {},
   "source": [
    "#### TimeScatter"
   ]
  },
  {
   "cell_type": "code",
   "execution_count": 8,
   "metadata": {},
   "outputs": [],
   "source": [
    "grid_plot = grid\n",
    "grid_plot[\"y_\"] = 0\n",
    "fig = px.scatter(grid, x=\"x\", y=\"y_\", animation_frame=\"y\", animation_group=\"x\", template=template, opacity=0.1, color_discrete_sequence=[\"crimson\"])\n",
    "fig.update_xaxes(visible=False)\n",
    "fig.update_yaxes(visible=False)\n",
    "fig.write_html(f\"plotly_graphs/test_timescatter{time.time()}.html\")\n"
   ]
  },
  {
   "cell_type": "markdown",
   "metadata": {},
   "source": [
    "#### Scatter3d"
   ]
  },
  {
   "cell_type": "code",
   "execution_count": 9,
   "metadata": {},
   "outputs": [],
   "source": [
    "rightWall = [Object(field_y[1] + slitAperture / 2, yWall, wallMass), rightEdge]\n",
    "fig = go.Figure(\n",
    "    data=[\n",
    "        go.Surface(x=x, y=y, z=zarray, showscale=False, hoverinfo=None, name=\"2slits\")\n",
    "    ]\n",
    "    + [\n",
    "        go.Scatter3d(\n",
    "            x=particle.x_trail,\n",
    "            y=particle.y_trail,\n",
    "            z=[0.01 for point in particle.x_trail],\n",
    "            mode=\"lines\",\n",
    "            marker_size=1,\n",
    "            marker_color=\"crimson\",\n",
    "            opacity=0.1,\n",
    "            line_width=5,\n",
    "        )\n",
    "        for particle in particles\n",
    "    ]\n",
    "    # + [\n",
    "    #     go.Scatter3d(\n",
    "    #         x=[particle.x for particle in particles],\n",
    "    #         y=[particle.y for particle in particles],\n",
    "    #         z=[0 for particle in particles],\n",
    "    #         mode=\"markers\",\n",
    "    #         marker_color=\"red\",\n",
    "    #         marker_size=2,\n",
    "    #         line_width=1,\n",
    "    #     )\n",
    "    # ]\n",
    "    + [\n",
    "        go.Scatter3d(\n",
    "            x=[edge.x for edge in wall],\n",
    "            y=[edge.y for edge in wall],\n",
    "            z=[0.01 for edge in wall],\n",
    "            mode=\"markers+lines\",\n",
    "            marker_color=\"darkgray\",\n",
    "        )\n",
    "        for wall in walls\n",
    "    ],\n",
    "    layout=dict(width=1600, height=800),\n",
    ")\n",
    "fig.for_each_trace(\n",
    "    lambda trace: trace.update(\n",
    "        colorscale=[\"red\", \"grey\"],\n",
    "        reversescale=False,\n",
    "        cmax=0,\n",
    "        cmin=-1,\n",
    "        contours_z=dict(usecolormap=False, project_z=False),\n",
    "        contours_y=dict(highlightcolor=\"red\", project_y=True),\n",
    "    )\n",
    "    if trace.name == \"2slits\"\n",
    "    else (),\n",
    ")\n",
    "fig.update_layout(template=template)\n",
    "fig.update_layout(\n",
    "    scene=dict(\n",
    "        xaxis_showspikes=False,\n",
    "        yaxis_showspikes=False,\n",
    "        zaxis_showspikes=False,\n",
    "        xaxis_visible=False,\n",
    "        yaxis_visible=False,\n",
    "        zaxis_visible=False,\n",
    "    ),\n",
    "    margin=dict(t=0, b=0, l=0, r=0),\n",
    ")\n",
    "fig.write_html(f\"plotly_graphs/scatter3d_test_{time.time()}.html\")\n",
    "# fig.show()"
   ]
  }
 ],
 "metadata": {
  "interpreter": {
   "hash": "df9787a8d1509562dffeb516dc2105b851d759aded4daa44c09aa11b2727be7a"
  },
  "kernelspec": {
   "display_name": "Python 3.9.4 64-bit ('physics': conda)",
   "name": "python3"
  },
  "language_info": {
   "name": "python",
   "version": ""
  },
  "metadata": {
   "interpreter": {
    "hash": "df9787a8d1509562dffeb516dc2105b851d759aded4daa44c09aa11b2727be7a"
   }
  }
 },
 "nbformat": 4,
 "nbformat_minor": 4
}