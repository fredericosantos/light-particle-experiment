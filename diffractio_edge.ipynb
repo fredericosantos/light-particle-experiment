{
 "cells": [
  {
   "cell_type": "code",
   "execution_count": 41,
   "metadata": {},
   "outputs": [],
   "source": [
    "from diffractio import degrees, mm, plt, um\n",
    "from diffractio.scalar_sources_X import Scalar_source_X\n",
    "from diffractio.scalar_masks_X import Scalar_mask_X\n",
    "from diffractio.utils_optics import field_parameters\n",
    "from diffractio.utils_drawing import draw_several_fields\n",
    "import plotly.express as px\n",
    "import plotly.graph_objects as go\n",
    "import pandas as pd\n",
    "import numpy as np\n",
    "import matplotlib.pyplot as plt\n",
    "import matplotlib.image as mpimg\n",
    "import time, datetime\n",
    "\n",
    "template=\"plotly_dark\"\n",
    "from matplotlib import rcParams\n",
    "rcParams['figure.dpi']=75\n",
    "plt.style.use('default')\n"
   ]
  },
  {
   "cell_type": "code",
   "execution_count": 119,
   "metadata": {},
   "outputs": [
    {
     "data": {
      "image/png": "[encoded data removed]",
      "text/plain": [
       "<Figure size 640x480 with 1 Axes>"
      ]
     },
     "metadata": {},
     "output_type": "display_data"
    }
   ],
   "source": [
    "x0 = np.linspace(-500*um, 500*um, 1024*32)\n",
    "wavelength = 0.6238 * um\n",
    "# plane wave\n",
    "u0 = Scalar_source_X(x=x0, wavelength=wavelength)\n",
    "u0.plane_wave(A=1, theta=0)\n",
    "\n",
    "# slit\n",
    "\n",
    "t0 = Scalar_mask_X(x=x0,  wavelength=wavelength)\n",
    "# t0.slit(x0=0, size=50 * um)\n",
    "# t0.two_levels(level1=1, level2=0, x_edge=0)\n",
    "# t0.slit(x0=0, size=20 * um)\n",
    "t0.double_slit(x0=0, size=50 * um, separation=200 * um)\n",
    "t0.draw()\n",
    "\n",
    "u1 = u0 * t0"
   ]
  },
  {
   "cell_type": "code",
   "execution_count": null,
   "metadata": {},
   "outputs": [],
   "source": [
    "AMPLIFICATION = 1\n",
    "\n",
    "for z in [25, 100, 1_000, 2_000]:\n",
    "    u = u1.RS(z=z * um, new_field=True, verbose=True, amplification=AMPLIFICATION)\n",
    "    u.draw(kind='intensity')"
   ]
  },
  {
   "cell_type": "code",
   "execution_count": 120,
   "metadata": {},
   "outputs": [],
   "source": [
    "z_distance = []\n",
    "threshold = 1000\n",
    "for z in range(1, threshold, 50):\n",
    "    u_ = u1.RS(z=z * um, new_field=True, verbose=False)\n",
    "    amplitude, intensity, phase = field_parameters(u_.u)\n",
    "    z_distance.append(np.column_stack((np.ones_like(u_.x) * z, u_.x, intensity)))\n",
    "for z in range(threshold, 5_000, 200):\n",
    "    u_ = u1.RS(z=z * um, new_field=True, verbose=False)\n",
    "    amplitude, intensity, phase = field_parameters(u_.u)\n",
    "    z_distance.append(np.column_stack((np.ones_like(u_.x) * z, u_.x, intensity)))\n",
    "grid = pd.DataFrame(np.vstack(z_distance)).rename(columns={0: \"z\", 1: \"x\", 2: \"y\"})\n"
   ]
  },
  {
   "cell_type": "code",
   "execution_count": 121,
   "metadata": {},
   "outputs": [],
   "source": [
    "# Experimenting with rounding values in X\n",
    "grid[\"x\"] = grid.x.round(2)\n",
    "y_np = pd.pivot_table(grid, values=\"y\", index=\"z\", columns=\"x\")\n",
    "fig = go.Figure(\n",
    "    data=[\n",
    "        go.Surface(\n",
    "            x=y_np.columns.values,\n",
    "            z=y_np.values,\n",
    "            y=y_np.index.values,\n",
    "            showscale=False,\n",
    "            hoverinfo=None,\n",
    "            name=\"1slit\",\n",
    "            lighting=dict(diffuse=0.0, specular=0.0, fresnel=0.0, roughness=0.0),\n",
    "            # colorscale=[\"red\", \"black\"],\n",
    "            reversescale=True,\n",
    "            contours_z=dict(\n",
    "                project_x=False,\n",
    "                project_y=False,\n",
    "                project_z=False,\n",
    "                highlight=True,\n",
    "                highlightcolor=\"red\",\n",
    "                highlightwidth=1,\n",
    "            ),\n",
    "            contours_y=dict(\n",
    "                highlightcolor=\"red\",\n",
    "                project_y=True,\n",
    "                project_z=False,\n",
    "                project_x=False,\n",
    "                highlight=True,\n",
    "                width=1,\n",
    "                highlightwidth=1,\n",
    "                show=False,\n",
    "            ),\n",
    "            contours_x=dict(\n",
    "                highlightcolor=\"red\",\n",
    "                project_x=True,\n",
    "                project_y=False,\n",
    "                project_z=False,\n",
    "                highlight=False,\n",
    "                width=16,\n",
    "                show=False,\n",
    "                highlightwidth=1,\n",
    "            ),\n",
    "        )\n",
    "    ],\n",
    "    # layout=dict(width=800, height=800),\n",
    ")\n",
    "fig.update_layout(template=template)\n",
    "fig.update_layout(\n",
    "    scene=dict(\n",
    "        xaxis_showspikes=False,\n",
    "        yaxis_showspikes=False,\n",
    "        zaxis_showspikes=False,\n",
    "        xaxis_visible=False,\n",
    "        yaxis_visible=False,\n",
    "        zaxis_visible=False,\n",
    "        yaxis_range=[y_np.index.to_numpy().min(), y_np.index.to_numpy().max() * 1.5],\n",
    "    ),\n",
    "    margin=dict(t=0, b=0, l=0, r=0),\n",
    ")\n",
    "# make layout height and width fill the whole window\n",
    "fig.update_layout(\n",
    "    autosize=True,\n",
    "    # width=1000,\n",
    "    # height=1000,\n",
    "    margin=dict(l=0, r=0, b=0, t=0, pad=0),\n",
    ")\n",
    "\n",
    "fig.write_html(f\"plotly_graphs/diffractio/edge_3D_{datetime.datetime.now()}.html\")\n",
    "fig.write_html(f\"plotly_graphs/diffractio/edge_3D_research.html\")\n",
    "# fig.show()\n",
    "\n",
    "fig = go.Figure()\n",
    "fig.add_trace(\n",
    "    go.Heatmap(\n",
    "        x=y_np.columns.values,\n",
    "        z=y_np.values,\n",
    "        y=y_np.index.values,\n",
    "    )\n",
    ")\n",
    "fig.update_layout(template=template)\n",
    "fig.update_layout(\n",
    "    margin=dict(t=50, b=0, l=0, r=0),\n",
    ")\n",
    "fig.write_html(f\"plotly_graphs/diffractio/edge_heatmap_research.html\")\n",
    "fig.write_html(f\"plotly_graphs/diffractio/edge_heatmap_{datetime.datetime.now()}.html\")"
   ]
  },
  {
   "cell_type": "code",
   "execution_count": 43,
   "metadata": {},
   "outputs": [],
   "source": [
    "\n",
    "fig = px.line(\n",
    "    grid,\n",
    "    x=\"x\",\n",
    "    y=\"y\",\n",
    "    animation_frame=\"z\",\n",
    "    animation_group=\"y\",\n",
    "    template=template,\n",
    "    color_discrete_sequence=[\"crimson\", \"blue\"],\n",
    ")\n",
    "fig.write_html(f\"plotly_graphs/timescatter{time.time()}.html\")\n"
   ]
  },
  {
   "cell_type": "code",
   "execution_count": 44,
   "metadata": {},
   "outputs": [],
   "source": [
    "fig = go.Figure(\n",
    "    data=[\n",
    "        go.Scatter3d(\n",
    "            x=z_distance[z][:, 1],\n",
    "            z=z_distance[z][:, 2],\n",
    "            y=z_distance[z][:, 0],\n",
    "            name=\"1slit\",\n",
    "            mode=\"lines\",\n",
    "            marker_size=1,\n",
    "            marker_color=\"crimson\",\n",
    "            # opacity=0.1,\n",
    "            line_width=2,\n",
    "        )\n",
    "        for z in range(len(z_distance))\n",
    "    ],\n",
    "    layout=dict(width=800, height=800),\n",
    ")\n",
    "# fig.for_each_trace(\n",
    "#     lambda trace: trace.update(\n",
    "#         colorscale=[\"black\", \"red\"],\n",
    "#         reversescale=False,\n",
    "#         contours_z=dict(usecolormap=False, project_z=False),\n",
    "#         contours_y=dict(highlightcolor=\"red\", project_y=True),\n",
    "#     )\n",
    "#     if trace.name == \"1slit\"\n",
    "#     else (),\n",
    "# )\n",
    "fig.update_layout(template=template)\n",
    "fig.update_layout(\n",
    "    scene=dict(\n",
    "        xaxis_showspikes=False,\n",
    "        yaxis_showspikes=False,\n",
    "        zaxis_showspikes=False,\n",
    "        xaxis_visible=False,\n",
    "        yaxis_visible=False,\n",
    "        zaxis_visible=False,\n",
    "    ),\n",
    "    margin=dict(t=0, b=0, l=0, r=0),\n",
    ")\n",
    "fig.write_html(f\"plotly_graphs/_diffractio_3d_scatter_{time.time()}.html\")\n",
    "# fig.show()\n"
   ]
  },
  {
   "cell_type": "code",
   "execution_count": null,
   "metadata": {},
   "outputs": [],
   "source": []
  }
 ],
 "metadata": {
  "kernelspec": {
   "display_name": "diffractio",
   "language": "python",
   "name": "python3"
  },
  "language_info": {
   "codemirror_mode": {
    "name": "ipython",
    "version": 3
   },
   "file_extension": ".py",
   "mimetype": "text/x-python",
   "name": "python",
   "nbconvert_exporter": "python",
   "pygments_lexer": "ipython3",
   "version": "3.10.9"
  },
  "metadata": {
   "interpreter": {
    "hash": "2c4f2e9e15b567a0842db5150f86c99ceb8bc3e0d4f7509559569966cbc05143"
   }
  },
  "vscode": {
   "interpreter": {
    "hash": "fb987f1cda4cc417447d2d29c2625fa1f3268c5042577f934d01d535e6b7df68"
   }
  }
 },
 "nbformat": 4,
 "nbformat_minor": 4
}
