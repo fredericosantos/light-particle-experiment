{
 "cells": [
  {
   "cell_type": "code",
   "execution_count": 1,
   "metadata": {},
   "outputs": [],
   "source": [
    "from library.plots import plot_heatmap, plot_surface\n",
    "import pandas as pd\n",
    "import torch as t\n",
    "import time, datetime\n",
    "import plotly.graph_objects as go\n",
    "import torch.nn.functional as F\n",
    "\n",
    "\n",
    "# profile the code with cProfile\n",
    "import cProfile\n",
    "import pstats\n",
    "\n",
    "from tqdm import tqdm\n",
    "from copy import deepcopy\n",
    "\n",
    "template = \"plotly_dark\""
   ]
  },
  {
   "cell_type": "code",
   "execution_count": 2,
   "metadata": {},
   "outputs": [],
   "source": [
    "def time_now():\n",
    "    return datetime.datetime.now().strftime(\"%Y-%m-%d %H:%M:%S\")"
   ]
  },
  {
   "cell_type": "markdown",
   "metadata": {},
   "source": [
    "# Edge"
   ]
  },
  {
   "cell_type": "code",
   "execution_count": 14,
   "metadata": {},
   "outputs": [],
   "source": [
    "edges_slits = [[-50, 10]]  # 1 slit\n",
    "barrier_points = []\n",
    "gravity_nodes_x = t.tensor([10])"
   ]
  },
  {
   "cell_type": "markdown",
   "metadata": {},
   "source": [
    "# 1 Slit\n"
   ]
  },
  {
   "cell_type": "code",
   "execution_count": 15,
   "metadata": {},
   "outputs": [],
   "source": [
    "edges_slits = [[-20, 20]]  # 1 slit\n",
    "barrier_points = [[-35, 35]]\n",
    "# barrier_points = [[-10, 10]]\n",
    "gravity_nodes_x = t.tensor(edges_slits).reshape(1, -1).squeeze()"
   ]
  },
  {
   "cell_type": "markdown",
   "metadata": {},
   "source": [
    "# 2 Slits\n"
   ]
  },
  {
   "cell_type": "code",
   "execution_count": 3,
   "metadata": {},
   "outputs": [],
   "source": [
    "edges_slits = [[-5000, 0]]  # two slits\n",
    "barrier_points = [[-5000, i] for i in range(1, 3)]\n",
    "# gravity_nodes_x = t.tensor(edges_slits + barrier_points).reshape(1, -1).squeeze().sort()[0]\n",
    "gravity_nodes_x = t.tensor(edges_slits).reshape(1, -1).squeeze().sort()[0]"
   ]
  },
  {
   "cell_type": "markdown",
   "metadata": {},
   "source": [
    "# Simulation"
   ]
  },
  {
   "cell_type": "code",
   "execution_count": 38,
   "metadata": {},
   "outputs": [
    {
     "name": "stderr",
     "output_type": "stream",
     "text": [
      "100%|██████████| 3000/3000 [00:03<00:00, 899.45it/s] \n"
     ]
    }
   ],
   "source": [
    "device = t.device(\"cuda\") if t.cuda.is_available() else t.device(\"cpu\")\n",
    "\n",
    "n_slits = len(edges_slits)\n",
    "n_particles = 1_000  # <3 3080Ti\n",
    "barrier_y = 0\n",
    "dt = 0.001\n",
    "v_y = 30  # FIX\n",
    "x = 100\n",
    "y = 3000  # 10000\n",
    "type_trig = 'cos'\n",
    "# G = -0.6626  # why is this negative?\n",
    "G = 1\n",
    "mass = 1  # FIX\n",
    "wavelength = 0.6238\n",
    "wavelength = 1\n",
    "power = 1\n",
    "inner_power = 1\n",
    "round_x = 0\n",
    "n_bins = 500  # always odd numbers\n",
    "PLOT_3D = True\n",
    "PLOT_Z_DISTRIBUTION = False\n",
    "PLOT_DENSITY = False\n",
    "normalize = True\n",
    "moving_wave = True\n",
    "#TODO: fix this threshold\n",
    "y_threshold = 0.1 / dt\n",
    "\n",
    "p_x = t.Tensor()\n",
    "field_x_min = -x\n",
    "field_x_max = x\n",
    "\n",
    "for slit in edges_slits:\n",
    "    p_x = t.cat(\n",
    "        (\n",
    "            p_x,\n",
    "            t.linspace(\n",
    "                max(slit[0], field_x_min), min(slit[1], field_x_max), n_particles\n",
    "            ),\n",
    "        ),\n",
    "        0,\n",
    "    )\n",
    "    # remove 5% of the particles that would be superpositioned with edges\n",
    "    # p_x = p_x[len(p_x) // 20 : -len(p_x) // 20]\n",
    "p_y = t.zeros_like(p_x)\n",
    "p_xy = t.stack((p_x, p_y), 1).to(device)\n",
    "# Let's try to keep the trail on the cpu\n",
    "trail_xy = t.clone(p_xy.unsqueeze(0))\n",
    "v_xy = t.zeros_like(p_xy).to(device) + t.tensor((0, v_y)).to(device)\n",
    "\n",
    "p_mass = t.ones_like(p_y).to(device)\n",
    "o_y = t.zeros_like(gravity_nodes_x)\n",
    "o_xy = t.stack((gravity_nodes_x, o_y), 1).to(device)\n",
    "\n",
    "# Stupid work around, code is becoming cluttered\n",
    "dist = t.Tensor().to(device)\n",
    "hist = t.histc(trail_xy[0][:, 0].to(\"cpu\"), bins=n_bins, min=-x, max=x)\n",
    "dist = t.cat((dist, hist.unsqueeze(0).to(device)), 0)\n",
    "\n",
    "t_ = 0\n",
    "for i in tqdm(range(y)):\n",
    "    if i <= y_threshold:\n",
    "        dt = 10\n",
    "    dt_ = t.ones_like(p_y).unsqueeze(1).to(device) * dt\n",
    "    a_xy = t.zeros_like(p_xy).to(device)\n",
    "    for o in o_xy:\n",
    "        d_xy = p_xy - o\n",
    "        r = t.sqrt(t.sum(d_xy**2, axis=1))\n",
    "        r_wavelength = r**inner_power * wavelength\n",
    "        force = G * mass / r**2\n",
    "        wave_force = r_wavelength - v_y * t_ * moving_wave\n",
    "        if type_trig == \"sin\":\n",
    "            force *= t.sin(wave_force) ** power\n",
    "        elif type_trig == \"cos\":\n",
    "            force *= t.cos(wave_force) ** power\n",
    "        elif type_trig == \"tan\":\n",
    "            force *= t.tan(wave_force) ** power\n",
    "        elif type_trig == 'test':\n",
    "            force *= t.cos(t.pi * r ** 2 / wavelength)**2\n",
    "        a_xy += force.unsqueeze(1) * d_xy / t.stack([r, r], axis=1)\n",
    "    v_xy += a_xy * dt_\n",
    "    # calculate the velocity of each particle\n",
    "    v = t.sqrt(t.sum(v_xy**2, axis=1))\n",
    "    # clip the velocity to the max velocity which is v_y\n",
    "    v = t.clip(v, 0, v_y)\n",
    "    # normalize the velocity vector\n",
    "    v_xy = v_xy / t.stack([v, v], axis=1)\n",
    "    # multiply the velocity vector by the max velocity\n",
    "    v_xy *= v_y\n",
    "\n",
    "    dt_ = (1 / v_xy)[:, 1].unsqueeze(1)\n",
    "    t.abs_(dt_)\n",
    "    p_xy += v_xy * dt_\n",
    "    if round_x > 0:\n",
    "        p_xy = p_xy.to(\"cpu\").round(decimals=round_x).to(device)\n",
    "    trail_xy = t.cat((trail_xy, p_xy.unsqueeze(0)), 0)\n",
    "    hist = t.histc(trail_xy[i][:, 0].to(\"cpu\"), bins=n_bins, min=-x, max=x).to(device)\n",
    "    dist = t.cat((dist, hist.unsqueeze(0)), 0)\n",
    "    t_ += dt\n",
    "\n",
    "dist = pd.DataFrame(dist.cpu().numpy())\n",
    "dist = dist.div(dist.max().max())\n",
    "if round_x > 0:\n",
    "    dist = dist.round(round_x)\n",
    "\n",
    "params = dict(\n",
    "    type_trig=type_trig,\n",
    "    G=G,\n",
    "    mass=mass,\n",
    "    wavelength=wavelength,\n",
    "    power=power,\n",
    "    inner_power=inner_power,\n",
    "    moving_wave=moving_wave,\n",
    "    edges_slits=edges_slits,\n",
    "    barrier_points=barrier_points,\n",
    "    n_particles=n_particles,\n",
    "    barrier_y=barrier_y,\n",
    "    dt=dt,\n",
    "    v_y=v_y,\n",
    "    x=x,\n",
    "    y=y,\n",
    "    round_x=round_x,\n",
    "    normalize=normalize,\n",
    ")"
   ]
  },
  {
   "cell_type": "code",
   "execution_count": 39,
   "metadata": {},
   "outputs": [
    {
     "name": "stdout",
     "output_type": "stream",
     "text": [
      "Creating surface plot\n"
     ]
    }
   ],
   "source": [
    "if PLOT_3D:\n",
    "    print(\"Creating surface plot\")\n",
    "    plot_surface(dist, gravity_nodes_x, o_y, template, params, show=True)\n",
    "\n",
    "if PLOT_Z_DISTRIBUTION:\n",
    "    print(\"Creating heatmap plot\")\n",
    "    plot_heatmap(dist, gravity_nodes_x, o_y, template, params)"
   ]
  },
  {
   "cell_type": "code",
   "execution_count": null,
   "metadata": {},
   "outputs": [],
   "source": []
  },
  {
   "cell_type": "code",
   "execution_count": null,
   "metadata": {},
   "outputs": [],
   "source": []
  },
  {
   "cell_type": "code",
   "execution_count": null,
   "metadata": {},
   "outputs": [],
   "source": []
  },
  {
   "cell_type": "code",
   "execution_count": null,
   "metadata": {},
   "outputs": [],
   "source": []
  },
  {
   "cell_type": "code",
   "execution_count": 104,
   "metadata": {},
   "outputs": [],
   "source": [
    "# Initialize the grid for plotting the gravitational field\n",
    "x_range = (-50, 50)\n",
    "y_range = (0, 50)  # Reduced for better visibility in the plot\n",
    "step = 5  # Reduced for better resolution\n",
    "x_points = t.arange(x_range[0], x_range[1], step=step, device=device)\n",
    "y_points = t.arange(y_range[0], y_range[1], step=step, device=device)\n",
    "xx, yy = t.meshgrid(x_points, y_points)\n",
    "grid_xy = t.stack((xx.flatten(), yy.flatten()), dim=1)\n",
    "\n",
    "# Initialize z_values to represent a flat plane initially\n",
    "z_values = t.zeros((len(y_points), len(x_points)), device=device)\n",
    "\n",
    "# Calculate the gravitational force (and hence the 'displacement') at each grid point\n",
    "for o in o_xy:\n",
    "    d_xy = grid_xy - o\n",
    "    r = t.sqrt((d_xy**2).sum(dim=1))\n",
    "    F_magnitude = G * mass / (r**2 + 1e-9)\n",
    "    displacement = F_magnitude.view(len(y_points), len(x_points))\n",
    "    z_values += displacement\n",
    "\n",
    "# Assume dist_shape is the shape of 'dist', and z_values_shape is the shape of 'z_values'\n",
    "dist_shape = dist.shape\n",
    "z_values_shape = z_values.shape\n",
    "\n",
    "scale_factor_y = dist.shape[0] / z_values.shape[0]\n",
    "scale_factor_x = dist.shape[1] / z_values.shape[1]\n",
    "z_values_interpolated = F.interpolate(\n",
    "    z_values.unsqueeze(0).unsqueeze(0),\n",
    "    scale_factor=(scale_factor_y, scale_factor_x),\n",
    "    mode=\"bilinear\",\n",
    "    align_corners=True,\n",
    ")\n",
    "z_values_interpolated = z_values_interpolated.squeeze(0).squeeze(0)"
   ]
  },
  {
   "cell_type": "code",
   "execution_count": null,
   "metadata": {},
   "outputs": [],
   "source": [
    "import torch as t\n",
    "import plotly.graph_objects as go\n",
    "\n",
    "\n",
    "# Function to plot the gravitational field\n",
    "def plot_gravitational_field(z_values, x_range, y_range, step):\n",
    "    x_points = list(range(x_range[0], x_range[1], step))\n",
    "    y_points = list(range(y_range[0], y_range[1], step))\n",
    "    fig = go.Figure(data=[go.Surface(z=z_values.cpu().numpy(), x=x_points, y=y_points)])\n",
    "    fig.update_layout(\n",
    "        title=\"Gravitational Field\",\n",
    "        scene=dict(xaxis_title=\"X\", yaxis_title=\"Y\", zaxis_title=\"Gravitational Force\"),\n",
    "    )\n",
    "    fig.show()\n",
    "\n",
    "\n",
    "# Parameters\n",
    "G = 2\n",
    "mass = 1\n",
    "x_range = (-50, 50)\n",
    "y_range = (0, 50)  # Reduced for better visibility in the plot\n",
    "step = 5  # Reduced for better resolution\n",
    "\n",
    "# Set device\n",
    "device = t.device(\"cuda\") if t.cuda.is_available() else t.device(\"cpu\")\n",
    "\n",
    "# Gravity nodes (e.g., edges of slits)\n",
    "o_xy = t.tensor([[-25, 0], [25, 0]], device=device)\n",
    "\n",
    "# Initialize the grid and force vectors\n",
    "x_points = t.arange(x_range[0], x_range[1], step=step, device=device)\n",
    "y_points = t.arange(y_range[0], y_range[1], step=step, device=device)\n",
    "xx, yy = t.meshgrid(x_points, y_points)\n",
    "grid_xy = t.stack((xx.flatten(), yy.flatten()), dim=1)\n",
    "\n",
    "# Initialize z_values to represent a flat plane initially\n",
    "z_values = t.zeros((len(y_points), len(x_points)), device=device)\n",
    "\n",
    "# Calculate the gravitational force (and hence the 'displacement') at each grid point\n",
    "for o in o_xy:\n",
    "    d_xy = grid_xy - o\n",
    "    r = t.sqrt((d_xy**2).sum(dim=1))\n",
    "    F_magnitude = G * mass / (r**2 + 1e-9)\n",
    "    F_vector = F_magnitude.unsqueeze(1) * (d_xy / r.unsqueeze(1))\n",
    "\n",
    "    # Calculate the 'displacement' due to this gravitational node and add it to z_values\n",
    "    displacement = F_magnitude.view(len(y_points), len(x_points))\n",
    "    z_values += displacement\n",
    "\n",
    "# Plotting\n",
    "plot_gravitational_field(-z_values, x_range, y_range, step)"
   ]
  },
  {
   "cell_type": "code",
   "execution_count": null,
   "metadata": {},
   "outputs": [],
   "source": []
  }
 ],
 "metadata": {
  "kernelspec": {
   "display_name": "light",
   "language": "python",
   "name": "python3"
  },
  "language_info": {
   "codemirror_mode": {
    "name": "ipython",
    "version": 3
   },
   "file_extension": ".py",
   "mimetype": "text/x-python",
   "name": "python",
   "nbconvert_exporter": "python",
   "pygments_lexer": "ipython3",
   "version": "3.11.4"
  },
  "orig_nbformat": 4
 },
 "nbformat": 4,
 "nbformat_minor": 2
}
