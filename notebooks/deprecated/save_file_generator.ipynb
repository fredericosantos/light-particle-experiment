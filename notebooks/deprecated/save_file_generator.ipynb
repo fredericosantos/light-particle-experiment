{
 "cells": [
  {
   "cell_type": "code",
   "execution_count": 3,
   "metadata": {},
   "outputs": [],
   "source": [
    "import numpy as np"
   ]
  },
  {
   "cell_type": "code",
   "execution_count": 3,
   "metadata": {},
   "outputs": [],
   "source": [
    "settings_str = \"_settings(gravity: sin(r-300*t)^2/r^2, x: 0, y: 0, zoom: 0.12);\"\n",
    "type1_str = \"_type1(m: 0, col: 1, lcol: 3, pic: 1);\"\n",
    "add_planet_str = \"_add(m: 1000000, d: 0.02984155, col: 2, lcol: 3, pic: 0, noGrav, textSize: 0, x: 0, y: 0);\""
   ]
  },
  {
   "cell_type": "markdown",
   "metadata": {},
   "source": [
    "### Settings"
   ]
  },
  {
   "cell_type": "code",
   "execution_count": 15,
   "metadata": {},
   "outputs": [
    {
     "data": {
      "text/plain": [
       "'_settings(gravity: sin*(r-300*t)^2, x: 0, y: 0, zoom: 0.12);'"
      ]
     },
     "execution_count": 15,
     "metadata": {},
     "output_type": "execute_result"
    }
   ],
   "source": [
    "power = 2\n",
    "velocity = 300\n",
    "\n",
    "gravity = \"sin*(r-\"+str(velocity)+\"*t)^\"+str(power)\n",
    "\n",
    "settings_str = \"_settings(gravity: \"+ gravity +\", x: 0, y: 0, zoom: 0.12);\"\n",
    "settings_str"
   ]
  },
  {
   "cell_type": "markdown",
   "metadata": {},
   "source": [
    "### Planets"
   ]
  },
  {
   "cell_type": "code",
   "execution_count": null,
   "metadata": {},
   "outputs": [],
   "source": []
  },
  {
   "cell_type": "markdown",
   "metadata": {},
   "source": [
    "### Projectiles"
   ]
  },
  {
   "cell_type": "code",
   "execution_count": 16,
   "metadata": {},
   "outputs": [
    {
     "data": {
      "text/plain": [
       "range(0, 500, 2)"
      ]
     },
     "execution_count": 16,
     "metadata": {},
     "output_type": "execute_result"
    }
   ],
   "source": [
    "starting_y = 0\n",
    "finishing_y = 500\n",
    "step_y = 2\n",
    "\n",
    "projectiles_str = \"\"\n",
    "\n",
    "for y in range(starting_y, finishing_y, step_y):\n",
    "    projectiles_str += \"_add(type: 1, x: -200, y: \"+y+\", vy: -300);\"\n",
    "    \n",
    "projectives_str"
   ]
  },
  {
   "cell_type": "code",
   "execution_count": 4,
   "metadata": {},
   "outputs": [
    {
     "data": {
      "text/plain": [
       "'_settings(gravity: sin(r-300*t)^2/r^2, x: 0, y: 0, zoom: 0.12);_type1(m: 0, col: 1, lcol: 3, pic: 1);_add(m: 1000000, d: 0.02984155, col: 2, lcol: 3, pic: 0, noGrav, textSize: 0, x: 0, y: 0);_add(type: 1, x: 0, y: 200, vy: -300);'"
      ]
     },
     "execution_count": 4,
     "metadata": {},
     "output_type": "execute_result"
    }
   ],
   "source": [
    "full_text = settings_str + type1_str + add_planet_str + add_str\n",
    "full_text"
   ]
  },
  {
   "cell_type": "code",
   "execution_count": 1,
   "metadata": {},
   "outputs": [],
   "source": [
    "with open('test.txt', 'w') as file:\n",
    "    file.write(full_text)"
   ]
  },
  {
   "cell_type": "code",
   "execution_count": null,
   "metadata": {},
   "outputs": [],
   "source": []
  }
 ],
 "metadata": {
  "kernelspec": {
   "display_name": "Python 3",
   "language": "python",
   "name": "python3"
  },
  "language_info": {
   "codemirror_mode": {
    "name": "ipython",
    "version": 3
   },
   "file_extension": ".py",
   "mimetype": "text/x-python",
   "name": "python",
   "nbconvert_exporter": "python",
   "pygments_lexer": "ipython3",
   "version": "3.7.5"
  },
  "toc": {
   "base_numbering": 1,
   "nav_menu": {},
   "number_sections": true,
   "sideBar": true,
   "skip_h1_title": false,
   "title_cell": "Table of Contents",
   "title_sidebar": "Contents",
   "toc_cell": false,
   "toc_position": {},
   "toc_section_display": true,
   "toc_window_display": false
  }
 },
 "nbformat": 4,
 "nbformat_minor": 4
}
