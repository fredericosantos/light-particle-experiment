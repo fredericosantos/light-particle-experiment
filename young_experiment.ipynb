{
 "cells": [
  {
   "cell_type": "code",
   "execution_count": 8,
   "metadata": {},
   "outputs": [],
   "source": [
    "from library.plots import plot_heatmap, plot_surface\n",
    "import pandas as pd\n",
    "import torch as t\n",
    "import time, datetime\n",
    "\n",
    "# profile the code with cProfile\n",
    "import cProfile\n",
    "import pstats\n",
    "\n",
    "from tqdm import tqdm\n",
    "from copy import deepcopy\n",
    "\n",
    "template = \"plotly_dark\""
   ]
  },
  {
   "cell_type": "code",
   "execution_count": 2,
   "metadata": {},
   "outputs": [],
   "source": [
    "def time_now():\n",
    "    return datetime.datetime.now().strftime(\"%Y-%m-%d %H:%M:%S\")\n"
   ]
  },
  {
   "cell_type": "markdown",
   "metadata": {},
   "source": [
    "# Edge"
   ]
  },
  {
   "cell_type": "code",
   "execution_count": 3,
   "metadata": {},
   "outputs": [],
   "source": [
    "edges_slits = [[-50, 10]] # 1 slit\n",
    "barrier_points = []\n",
    "gravity_nodes_x = t.tensor([10])"
   ]
  },
  {
   "cell_type": "markdown",
   "metadata": {},
   "source": [
    "# 1 Slit\n"
   ]
  },
  {
   "cell_type": "code",
   "execution_count": 17,
   "metadata": {},
   "outputs": [],
   "source": [
    "edges_slits = [[-20, 20]]  # 1 slit\n",
    "barrier_points = [[-35, 35]]\n",
    "# barrier_points = [[-10, 10]]\n",
    "gravity_nodes_x = t.tensor(edges_slits).reshape(1, -1).squeeze()\n",
    "\n"
   ]
  },
  {
   "cell_type": "markdown",
   "metadata": {},
   "source": [
    "# 2 Slits\n"
   ]
  },
  {
   "cell_type": "code",
   "execution_count": 40,
   "metadata": {},
   "outputs": [],
   "source": [
    "\n",
    "edges_slits = [[-25, -5], [5, 25]]  # two slits\n",
    "barrier_points = [[-i, i] for i in range(26, 35)] + [[-i, i] for i in range(1, 4)]\n",
    "gravity_nodes_x = t.tensor(edges_slits + barrier_points).reshape(1, -1).squeeze().sort()[0]\n"
   ]
  },
  {
   "cell_type": "markdown",
   "metadata": {},
   "source": [
    "# Simulation"
   ]
  },
  {
   "cell_type": "code",
   "execution_count": 48,
   "metadata": {},
   "outputs": [],
   "source": [
    "\n",
    "# start profiler\n",
    "# pr = cProfile.Profile()\n",
    "# pr.enable()\n",
    "\n",
    "device = t.device(\"cuda\")\n",
    "\n",
    "n_slits = len(edges_slits)\n",
    "n_particles = 10_000  # <3 3080Ti\n",
    "barrier_y = 0\n",
    "dt = 1\n",
    "v_y = 3  # FIX\n",
    "x = 50\n",
    "y = 3000  # 10000\n",
    "type_trig = \"sin\"\n",
    "# G = -0.6626  # why is this negative?\n",
    "G = 2\n",
    "mass = 1  # FIX\n",
    "wavelength = 0.1\n",
    "power = 2\n",
    "inner_power = 2\n",
    "round_x = 5\n",
    "n_bins = 100  # always odd numbers\n",
    "PLOT_3D = True\n",
    "PLOT_Z_DISTRIBUTION = False\n",
    "PLOT_DENSITY = False\n",
    "normalize = True\n",
    "moving_wave = False\n",
    "gravity_threshold = 500\n",
    "\n",
    "p_x = t.Tensor()\n",
    "\n",
    "for slit in edges_slits:\n",
    "    p_x = t.cat((p_x, t.linspace(slit[0], slit[1], n_particles + 1)), 0)\n",
    "    # remove the particles that would be superpositioned with edges\n",
    "    # p_x = p_x[1:-1]\n",
    "p_y = t.zeros_like(p_x)\n",
    "p_xy = t.stack((p_x, p_y), 1).to(device)\n"
   ]
  },
  {
   "cell_type": "code",
   "execution_count": 49,
   "metadata": {},
   "outputs": [
    {
     "name": "stderr",
     "output_type": "stream",
     "text": [
      "  0%|          | 0/3000 [00:00<?, ?it/s]"
     ]
    },
    {
     "name": "stderr",
     "output_type": "stream",
     "text": [
      "100%|██████████| 3000/3000 [00:01<00:00, 1942.82it/s]\n"
     ]
    },
    {
     "name": "stdout",
     "output_type": "stream",
     "text": [
      "Creating particle grid\n",
      "Creating surface plot\n"
     ]
    }
   ],
   "source": [
    "\n",
    "# Let's try to keep the trail on the cpu\n",
    "trail_xy = t.clone(p_xy.unsqueeze(0))\n",
    "v_xy = t.zeros_like(p_xy).to(device) + t.tensor((0, v_y)).to(device)\n",
    "\n",
    "p_mass = t.ones_like(p_y).to(device)\n",
    "o_y = t.zeros_like(gravity_nodes_x) + barrier_y\n",
    "o_xy = t.stack((gravity_nodes_x, o_y), 1).to(device)\n",
    "\n",
    "# Stupid work around, code is becoming cluttered\n",
    "dist = t.Tensor().to(device)\n",
    "hist = t.histc(trail_xy[0][:, 0].to(\"cpu\"), bins=n_bins, min=-x, max=x)\n",
    "dist = t.cat((dist, hist.unsqueeze(0).to(device)), 0)\n",
    "\n",
    "t_ = 0\n",
    "for i in tqdm(range(y)):\n",
    "    if i <= gravity_threshold:\n",
    "        dt_ = t.ones_like(p_y).unsqueeze(1).to(device) * dt\n",
    "        a_xy = t.zeros_like(p_xy).to(device)\n",
    "        for o in o_xy:\n",
    "            d_xy = p_xy - o\n",
    "            r = t.sqrt(t.sum(d_xy**2, axis=1))\n",
    "            r_wavelength = r**inner_power * wavelength\n",
    "            F = G * mass / r**2\n",
    "            if type_trig == \"sin\":\n",
    "                F *= t.sin(r_wavelength - v_y * t_ * moving_wave) ** power\n",
    "            elif type_trig == \"cos\":\n",
    "                F *= t.cos(r_wavelength - v_y * t_ * moving_wave) ** power\n",
    "            elif type_trig == \"tan\":\n",
    "                F *= t.tan(r_wavelength - v_y * t_ * moving_wave) ** power\n",
    "            # else:\n",
    "            #     F *= r_wavelength - v_y * t_ * moving_wave\n",
    "            a_xy += F.unsqueeze(1) * d_xy / t.stack([r, r], axis=1)\n",
    "        v_xy += a_xy * dt_\n",
    "        # calculate the velocity of each particle\n",
    "        v = t.sqrt(t.sum(v_xy**2, axis=1))\n",
    "        # clip the velocity to the max velocity which is v_y\n",
    "        v = t.clip(v, 0, v_y)\n",
    "        # normalize the velocity vector\n",
    "        v_xy = v_xy / t.stack([v, v], axis=1)\n",
    "        # multiply the velocity vector by the max velocity\n",
    "        v_xy *= v_y\n",
    "\n",
    "        dt_ = (1 / v_xy)[:, 1].unsqueeze(1)\n",
    "        t.abs_(dt_)\n",
    "    p_xy += v_xy * dt_\n",
    "    if round_x > 0:\n",
    "        p_xy = p_xy.to(\"cpu\").round(decimals=round_x).to(device)\n",
    "    trail_xy = t.cat((trail_xy, p_xy.unsqueeze(0)), 0)\n",
    "    hist = t.histc(trail_xy[i][:, 0].to(\"cpu\"), bins=n_bins, min=-x, max=x).to(device)\n",
    "    dist = t.cat((dist, hist.unsqueeze(0)), 0)\n",
    "    t_ += dt\n",
    "\n",
    "print(\"Creating particle grid\")\n",
    "# trails = trail_xy.reshape(-1, 2).cpu().numpy().round(round_x)\n",
    "dist = pd.DataFrame(dist.cpu().numpy())\n",
    "dist = dist.div(dist.max().max())\n",
    "if round_x > 0:\n",
    "    dist = dist.round(round_x)\n",
    "\n",
    "# stop profiling\n",
    "# pr.disable()\n",
    "# pr.dump_stats(\"profile.prof\")\n",
    "\n",
    "# # print stats\n",
    "# pr.print_stats(sort=\"time\")\n",
    "\n",
    "\n",
    "# grid = pd.DataFrame(trails, columns=[\"x\", \"y\"])\n",
    "# grid_pt = grid[(grid.x > -x) & (grid.x < x)].pivot_table(\n",
    "#     index=\"y\", columns=\"x\", aggfunc=len, fill_value=0\n",
    "# )\n",
    "\n",
    "\n",
    "# if normalize:\n",
    "#     # Normalizes entire grid\n",
    "#     grid_pt = grid_pt.div(grid_pt.max().max())\n",
    "\n",
    "# grid.dropna(inplace=True)\n",
    "params = dict(\n",
    "    type_trig=type_trig,\n",
    "    G=G,\n",
    "    mass=mass,\n",
    "    wavelength=wavelength,\n",
    "    power=power,\n",
    "    inner_power=inner_power,\n",
    "    moving_wave=moving_wave,\n",
    "    edges_slits=edges_slits,\n",
    "    barrier_points=barrier_points,\n",
    "    n_particles=n_particles,\n",
    "    barrier_y=barrier_y,\n",
    "    dt=dt,\n",
    "    v_y=v_y,\n",
    "    x=x,\n",
    "    y=y,\n",
    "    round_x=round_x,\n",
    "    normalize=normalize,\n",
    ")\n",
    "if PLOT_3D:\n",
    "    print(\"Creating surface plot\")\n",
    "    plot_surface(dist, gravity_nodes_x, o_y, template, params, show=True)\n",
    "\n",
    "if PLOT_Z_DISTRIBUTION:\n",
    "    print(\"Creating heatmap plot\")\n",
    "    plot_heatmap(dist, gravity_nodes_x, o_y, template, params)"
   ]
  },
  {
   "cell_type": "code",
   "execution_count": null,
   "metadata": {},
   "outputs": [],
   "source": []
  }
 ],
 "metadata": {
  "kernelspec": {
   "display_name": "light",
   "language": "python",
   "name": "python3"
  },
  "language_info": {
   "codemirror_mode": {
    "name": "ipython",
    "version": 3
   },
   "file_extension": ".py",
   "mimetype": "text/x-python",
   "name": "python",
   "nbconvert_exporter": "python",
   "pygments_lexer": "ipython3",
   "version": "3.11.3"
  },
  "orig_nbformat": 4
 },
 "nbformat": 4,
 "nbformat_minor": 2
}
