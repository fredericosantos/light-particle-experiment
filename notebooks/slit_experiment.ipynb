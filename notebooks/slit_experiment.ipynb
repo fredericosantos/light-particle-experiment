{
 "cells": [
  {
   "cell_type": "code",
   "execution_count": 1,
   "metadata": {},
   "outputs": [],
   "source": [
    "from quantum_field import *\n",
    "import plotly.graph_objects as go\n",
    "import plotly.figure_factory as ff\n",
    "import plotly.express as px\n",
    "import pandas as pd\n",
    "import numpy as np\n",
    "import datashader as ds\n",
    "from colorcet import fire, kbc, bmw, gray\n",
    "template=\"plotly_dark\""
   ]
  },
  {
   "cell_type": "code",
   "execution_count": 2,
   "metadata": {},
   "outputs": [],
   "source": [
    "# Construct the slits\n",
    "wallMass = 10\n",
    "yWall = 10\n",
    "slitAperture = 100\n",
    "leftEdge = Object(-slitAperture / 2, yWall, wallMass)\n",
    "leftWall = [Object(-100 - slitAperture / 2, yWall, wallMass), leftEdge]\n",
    "rightEdge = Object(slitAperture / 2, yWall, wallMass)\n",
    "rightWall = [Object(100 + slitAperture / 2, yWall, wallMass), rightEdge]\n",
    "edges = [leftEdge, rightEdge]\n",
    "walls = [leftWall, rightWall]\n",
    "\n",
    "# Uncomment for one slit\n",
    "# edges = [Object(i+slitAperture/2, yWall, wallMass) for i in range(10)]\n",
    "edges = [rightEdge]\n",
    "walls = [edges]\n",
    "\n",
    "\n",
    "# Create the particles\n",
    "v_y_particles = 300\n",
    "particle_y0_step = 5\n",
    "particle_x0_fraction = 10\n",
    "\n",
    "particles = [\n",
    "    Particle(x_t0=i/particle_x0_fraction, y_t0=j, v_x=0, v_y=v_y_particles, mass=1) for j in range(-100, 0, particle_y0_step)\n",
    "    for i in range(0, (slitAperture//2)*particle_x0_fraction-1, 1)\n",
    "]\n",
    "\n",
    "\n",
    "# Define parameters\n",
    "dt = 1\n",
    "cos_sin = \"none\"\n",
    "power = 1\n",
    "r_modifier = 1\n",
    "G=100\n",
    "c=v_y_particles\n",
    "gravityCutoff = 1000\n",
    "yGrid = True\n",
    "\n",
    "# Punch it\n",
    "for t in range(100):\n",
    "    for particle in particles:\n",
    "        if particle.y > yWall*2:\n",
    "            dt = 1\n",
    "        if particle.v_y > 0:\n",
    "            updateParticle(\n",
    "                particle,\n",
    "                edges,\n",
    "                G=G,\n",
    "                dt=dt,\n",
    "                r_modifier=r_modifier,\n",
    "                c=c,\n",
    "                power=power,\n",
    "                gravityCutoff=gravityCutoff,\n",
    "                cos_sin=cos_sin,\n",
    "                yGrid=yGrid,\n",
    "            )"
   ]
  },
  {
   "cell_type": "code",
   "execution_count": 3,
   "metadata": {},
   "outputs": [
    {
     "data": {
      "text/plain": [
       "array([[12, 18, 22, ...,  0,  0,  0],\n",
       "       [ 5, 10, 10, ...,  0,  0,  0],\n",
       "       [ 5, 10, 10, ...,  0,  0,  0],\n",
       "       ...,\n",
       "       [ 0,  0,  0, ...,  1,  0,  0],\n",
       "       [ 0,  0,  0, ...,  0,  1,  0],\n",
       "       [ 0,  0,  0, ...,  0,  0,  1]])"
      ]
     },
     "execution_count": 3,
     "metadata": {},
     "output_type": "execute_result"
    }
   ],
   "source": [
    "grid = pd.DataFrame(np.vstack((np.hstack([particle.x_trail for particle in particles]), np.hstack([particle.y_trail for particle in particles])))).T\n",
    "grid.rename(columns={0: \"x\", 1: \"y\"}, inplace=True)\n",
    "grid[\"x\"] = np.round(grid.x, 0)\n",
    "grid.pivot_table(index=\"y\", columns=\"x\", aggfunc=len, fill_value=0).to_numpy()\n"
   ]
  },
  {
   "cell_type": "code",
   "execution_count": null,
   "metadata": {},
   "outputs": [],
   "source": []
  },
  {
   "cell_type": "markdown",
   "metadata": {},
   "source": [
    "# Graphs"
   ]
  },
  {
   "cell_type": "code",
   "execution_count": null,
   "metadata": {},
   "outputs": [],
   "source": [
    "fig = go.Figure(\n",
    "    data=[\n",
    "        go.Scattergl(\n",
    "            x=particle.x_trail,\n",
    "            y=particle.y_trail,\n",
    "            mode=\"lines\",\n",
    "            marker_size=5,\n",
    "            marker_color=\"crimson\",\n",
    "            line_width=1,\n",
    "        )\n",
    "        for particle in particles\n",
    "    ]\n",
    "    + [\n",
    "        go.Scattergl(\n",
    "            x=[particle.x for particle in particles],\n",
    "            y=[particle.y for particle in particles],\n",
    "            mode=\"markers\",\n",
    "            marker_color=\"red\",\n",
    "            marker_size=2,\n",
    "            line_width=1,\n",
    "        )\n",
    "    ]\n",
    "    + [\n",
    "        go.Scattergl(\n",
    "            x=[edge.x for edge in wall],\n",
    "            y=[edge.y for edge in wall],\n",
    "            mode=\"markers+lines\",\n",
    "            marker_color=\"darkgray\",\n",
    "        )\n",
    "        for wall in walls\n",
    "    ],\n",
    "    layout=dict(width=1600, height=800),\n",
    ")\n",
    "fig.update_layout(template=template)\n",
    "fig.write_html(\n",
    "    f\"plotly_graphs/_test_2d_{len(particles)}p_ygrid{yGrid}_apert{slitAperture}_fract{particle_x0_fraction}_{cos_sin}{power}_rmod{r_modifier}_G{G}_c{c}_y0_step{particle_y0_step}_gravCut{gravityCutoff}.html\"\n",
    ")\n",
    "# fig.show()\n"
   ]
  },
  {
   "cell_type": "code",
   "execution_count": null,
   "metadata": {},
   "outputs": [],
   "source": []
  }
 ],
 "metadata": {
  "kernelspec": {
   "display_name": "Python 3.9.2 64-bit ('physics': conda)",
   "language": "python",
   "name": "python392jvsc74a57bd0df9787a8d1509562dffeb516dc2105b851d759aded4daa44c09aa11b2727be7a"
  },
  "language_info": {
   "codemirror_mode": {
    "name": "ipython",
    "version": 3
   },
   "file_extension": ".py",
   "mimetype": "text/x-python",
   "name": "python",
   "nbconvert_exporter": "python",
   "pygments_lexer": "ipython3",
   "version": "3.9.2"
  },
  "metadata": {
   "interpreter": {
    "hash": "df9787a8d1509562dffeb516dc2105b851d759aded4daa44c09aa11b2727be7a"
   }
  }
 },
 "nbformat": 4,
 "nbformat_minor": 4
}
