{
 "cells": [
  {
   "cell_type": "code",
   "execution_count": 1,
   "metadata": {},
   "outputs": [],
   "source": [
    "import numpy as np\n",
    "import pandas as pd\n",
    "import torch as t\n",
    "import plotly.graph_objects as go\n",
    "import plotly.express as px\n",
    "import plotly.io as pio\n",
    "import time, datetime\n",
    "\n",
    "template = \"plotly_dark\"\n",
    "from copy import deepcopy\n",
    "\n",
    "\n",
    "def time_now():\n",
    "    return datetime.datetime.now().strftime(\"%Y-%m-%d %H:%M:%S\")\n"
   ]
  },
  {
   "cell_type": "code",
   "execution_count": 2,
   "metadata": {},
   "outputs": [],
   "source": [
    "# Create some sort of resemblance to\n",
    "SLIT_SIZE = 50\n",
    "# number of particles are defined by the slit size.\n",
    "N_PARTICLES = SLIT_SIZE * 100\n",
    "\n",
    "# Wall parameters\n",
    "WALL_Y = 0\n",
    "WALL_LENGTH = 0\n",
    "\n",
    "PARTICLES_Y = 0\n",
    "Y_LIMIT = 2000\n",
    "Y_VELOCITY = 300_000\n",
    "G = 66260\n",
    "# G = 5_000_000\n",
    "MASS = 1\n",
    "X_LIMIT = 50\n",
    "# how many decimals to round x for plotting\n",
    "X_ROUND = 0\n",
    "\n",
    "# Related to wave part\n",
    "wavegrav = True\n",
    "wavelength = 10\n",
    "type_sin_cos = \"sin\"\n",
    "POWER = 1\n",
    "INNER_POWER = 1\n"
   ]
  },
  {
   "cell_type": "markdown",
   "metadata": {},
   "source": [
    "# Calculations"
   ]
  },
  {
   "cell_type": "code",
   "execution_count": 3,
   "metadata": {},
   "outputs": [],
   "source": [
    "p_x = t.linspace(-SLIT_SIZE // 2, SLIT_SIZE // 2, N_PARTICLES + 1)\n",
    "p_y = t.zeros_like(p_x) + PARTICLES_Y\n",
    "p_xy = t.stack((p_x, p_y), 1).cuda()\n",
    "trail_xy = t.clone(p_xy.unsqueeze(0)).cuda()\n",
    "v_xy = t.zeros_like(p_xy).cuda() + t.tensor((0, Y_VELOCITY)).cuda()\n",
    "dt = t.ones((N_PARTICLES + 1, 1)).cuda()\n",
    "p_mass = t.ones_like(dt).cuda()\n",
    "\n",
    "# 2 walls, 1 slit\n",
    "o_x_negatives = t.linspace(\n",
    "    -SLIT_SIZE // 2 - WALL_LENGTH, -SLIT_SIZE // 2, WALL_LENGTH + 1\n",
    ")\n",
    "o_x_positives = t.linspace(\n",
    "    SLIT_SIZE // 2, SLIT_SIZE // 2 + WALL_LENGTH, WALL_LENGTH + 1\n",
    ")\n",
    "o_x = t.cat((o_x_negatives, o_x_positives), 0)\n",
    "o_y = t.zeros_like(o_x) + WALL_Y\n",
    "o_xy = t.stack((o_x, o_y), 1).cuda()\n",
    "\n",
    "for y in range(Y_LIMIT):\n",
    "    dt = t.ones((N_PARTICLES + 1, 1)).cuda()\n",
    "    a_xy = t.zeros_like(p_xy).cuda()\n",
    "    for i in o_xy:\n",
    "        # distances\n",
    "        d_xy = p_xy - i\n",
    "        r = t.sqrt(t.sum(d_xy**2, axis=1))\n",
    "        r_ = r * wavelength\n",
    "        a = -1 * G * MASS / r**2\n",
    "        if wavegrav:\n",
    "            if type_sin_cos == \"sin\":\n",
    "                a *= t.sin(r_**INNER_POWER) ** (POWER)\n",
    "            else:\n",
    "                a *= t.cos(r_**INNER_POWER) ** (POWER)\n",
    "        a_xy += a.unsqueeze(1) * d_xy / t.stack([r, r], axis=1)\n",
    "\n",
    "    v_xy += a_xy * dt\n",
    "    dt = 1 / v_xy\n",
    "    dt[dt == float(\"Inf\")] = 0\n",
    "    dt = dt[:, 1].unsqueeze(1)\n",
    "    t.abs_(dt)\n",
    "    p_xy += v_xy * dt\n",
    "    trail_xy = t.cat((trail_xy, p_xy.unsqueeze(0)), 0)\n",
    "trails = trail_xy.reshape(-1, 2).cpu().numpy().round(X_ROUND)\n"
   ]
  },
  {
   "cell_type": "code",
   "execution_count": 4,
   "metadata": {},
   "outputs": [],
   "source": [
    "grid = pd.DataFrame(trails, columns=[\"x\", \"y\"])\n",
    "grid_pt = grid[(grid.x > -X_LIMIT) & (grid.x < X_LIMIT)].pivot_table(\n",
    "    index=\"y\", columns=\"x\", aggfunc=len, fill_value=0\n",
    ")\n",
    "grid.dropna(inplace=True)\n"
   ]
  },
  {
   "cell_type": "code",
   "execution_count": 5,
   "metadata": {},
   "outputs": [],
   "source": [
    "wall_left = np.array([[-X_LIMIT, -SLIT_SIZE // 2], [WALL_Y, WALL_Y], [0, 0]])\n",
    "wall_right = np.array([[SLIT_SIZE // 2, X_LIMIT], [WALL_Y, WALL_Y], [0, 0]])\n"
   ]
  },
  {
   "cell_type": "markdown",
   "metadata": {},
   "source": [
    "# Plotting"
   ]
  },
  {
   "cell_type": "code",
   "execution_count": 6,
   "metadata": {},
   "outputs": [],
   "source": [
    "params = {\n",
    "    \"SLIT_SIZE\": SLIT_SIZE,\n",
    "    \"wavelength\": wavelength,\n",
    "    \"type_sin_cos\": type_sin_cos,\n",
    "    \"INNER_POWER\": INNER_POWER,\n",
    "    \"POWER\": POWER,\n",
    "    \"N_PARTICLES\": N_PARTICLES,\n",
    "    \"G\": G,\n",
    "    \"WALL_Y\": WALL_Y,\n",
    "    \"WALL_LENGHT\": WALL_LENGTH,\n",
    "    \"PARTICLES_Y\": PARTICLES_Y,\n",
    "    \"Y_LIMIT\": Y_LIMIT,\n",
    "    \"MASS\": MASS,\n",
    "    \"X_LIMIT\": X_LIMIT,\n",
    "    \"X_ROUND\": X_ROUND,\n",
    "    \"wavegrav\": wavegrav,\n",
    "    \"Y_VELOCITY\": Y_VELOCITY,\n",
    "}\n"
   ]
  },
  {
   "cell_type": "code",
   "execution_count": 44,
   "metadata": {},
   "outputs": [
    {
     "data": {
      "text/plain": [
       "array([[-50, -25],\n",
       "       [  0,   0],\n",
       "       [  0,   0]])"
      ]
     },
     "execution_count": 44,
     "metadata": {},
     "output_type": "execute_result"
    }
   ],
   "source": [
    "wall_left\n"
   ]
  },
  {
   "cell_type": "code",
   "execution_count": 49,
   "metadata": {},
   "outputs": [
    {
     "data": {
      "text/plain": [
       "25"
      ]
     },
     "execution_count": 49,
     "metadata": {},
     "output_type": "execute_result"
    }
   ],
   "source": [
    "SLIT_SIZE // 2\n"
   ]
  },
  {
   "cell_type": "code",
   "execution_count": 54,
   "metadata": {},
   "outputs": [],
   "source": [
    "# Implement model parameters in title\n",
    "fig = go.Figure()\n",
    "\n",
    "fig.add_trace(\n",
    "    go.Surface(\n",
    "        z=grid_pt.values / grid_pt.values.max(),\n",
    "        x=grid_pt.columns.tolist(),\n",
    "        y=grid_pt.index.tolist(),\n",
    "        showscale=False,\n",
    "        hoverinfo=None,\n",
    "        reversescale=True,\n",
    "        name=\"test\",\n",
    "        # colorscale=[\"red\", \"black\"],\n",
    "        colorscale=\"Turbo\",\n",
    "        lighting=dict(diffuse=0.0, specular=0.0, fresnel=0.0, roughness=0.0),\n",
    "        # cmin=0,\n",
    "        # cmax=500,\n",
    "        contours_z=dict(\n",
    "            project_x=False,\n",
    "            project_y=False,\n",
    "            project_z=False,\n",
    "            highlight=True,\n",
    "            highlightcolor=\"red\",\n",
    "            highlightwidth=1,\n",
    "        ),\n",
    "        contours_y=dict(\n",
    "            highlightcolor=\"red\",\n",
    "            project_y=True,\n",
    "            project_z=False,\n",
    "            project_x=False,\n",
    "            highlight=True,\n",
    "            width=1,\n",
    "            highlightwidth=1,\n",
    "            show=False,\n",
    "        ),\n",
    "        contours_x=dict(\n",
    "            highlightcolor=\"red\",\n",
    "            project_x=True,\n",
    "            project_y=False,\n",
    "            project_z=False,\n",
    "            highlight=False,\n",
    "            width=16,\n",
    "            show=False,\n",
    "            highlightwidth=1,\n",
    "        ),\n",
    "    )\n",
    ")\n",
    "\n",
    "fig.add_trace(\n",
    "    go.Mesh3d(\n",
    "        x=[-X_LIMIT, -SLIT_SIZE // 2, -SLIT_SIZE // 2, -X_LIMIT],\n",
    "        y=[WALL_Y, WALL_Y, WALL_Y, WALL_Y],\n",
    "        z=[0, 0, 10, 10],\n",
    "        color=\"white\",\n",
    "        opacity=0.5,\n",
    "        hoverinfo=None,\n",
    "        name=\"left_wall\",\n",
    "    )\n",
    ")\n",
    "\n",
    "# fig.add_trace(\n",
    "#     go.Scatter3d(\n",
    "#         x=wall_right[0],\n",
    "#         y=wall_right[1],\n",
    "#         z=wall_right[2],\n",
    "#         marker_color=\"white\",\n",
    "#         mode=\"lines\",\n",
    "#         hoverinfo=None,\n",
    "#         name=\"left_wall\",\n",
    "#     )\n",
    "# )\n",
    "# fig.add_trace(\n",
    "#     go.Scatter3d(\n",
    "#         x=wall_left[0],\n",
    "#         y=wall_left[1],\n",
    "#         z=wall_left[2],\n",
    "#         marker_color=\"white\",\n",
    "#         mode=\"lines\",\n",
    "#         hoverinfo=None,\n",
    "#         name=\"left_wall\",\n",
    "#     )\n",
    "# )\n",
    "fig.update_layout(template=template)\n",
    "fig.update_layout(\n",
    "    title=str(params),\n",
    "    font=dict(size=8),\n",
    "    scene=dict(\n",
    "        xaxis_showspikes=False,\n",
    "        yaxis_showspikes=False,\n",
    "        zaxis_showspikes=False,\n",
    "        xaxis_visible=False,\n",
    "        yaxis_visible=False,\n",
    "        zaxis_visible=False,\n",
    "        yaxis_range=[0, grid_pt.index.to_numpy().max() * 1.5],\n",
    "    ),\n",
    "    margin=dict(t=50, b=0, l=0, r=0),\n",
    ")\n",
    "\n",
    "fig.write_html(f\"plotly_graphs/simulator/notebook_surface.html\")\n",
    "fig.write_html(f\"plotly_graphs/simulator/notebook_surface_{time_now()}.html\")\n"
   ]
  }
 ],
 "metadata": {
  "kernelspec": {
   "display_name": "diffractio",
   "language": "python",
   "name": "python3"
  },
  "language_info": {
   "codemirror_mode": {
    "name": "ipython",
    "version": 3
   },
   "file_extension": ".py",
   "mimetype": "text/x-python",
   "name": "python",
   "nbconvert_exporter": "python",
   "pygments_lexer": "ipython3",
   "version": "3.10.10"
  },
  "orig_nbformat": 4,
  "vscode": {
   "interpreter": {
    "hash": "fb987f1cda4cc417447d2d29c2625fa1f3268c5042577f934d01d535e6b7df68"
   }
  }
 },
 "nbformat": 4,
 "nbformat_minor": 2
}
